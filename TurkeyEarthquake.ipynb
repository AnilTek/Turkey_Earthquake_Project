{
 "cells": [
  {
   "cell_type": "code",
   "execution_count": 1,
   "id": "02cfe23f-e056-4f4b-8edd-bd16dec3960f",
   "metadata": {
    "tags": []
   },
   "outputs": [],
   "source": [
    "### Kütüphane import\n",
    "\n",
    "import numpy as np\n",
    "import pandas as pd\n",
    "import seaborn as sns\n",
    "import matplotlib.pyplot as plt\n",
    "import tensorflow as tf\n",
    "from sklearn.model_selection import train_test_split\n",
    "from sklearn.linear_model import LinearRegression\n",
    "from sklearn.metrics import mean_absolute_error,mean_squared_error,classification_report,confusion_matrix"
   ]
  },
  {
   "cell_type": "code",
   "execution_count": 2,
   "id": "a10c2f6a-186a-41dd-9107-6da9c89ab81d",
   "metadata": {
    "tags": []
   },
   "outputs": [],
   "source": [
    "te = pd.read_csv('veriler.csv')\n",
    "df = te.copy()\n",
    "df['Tip'] = (df['Tip']=='Ke').astype(int)"
   ]
  },
  {
   "cell_type": "code",
   "execution_count": 3,
   "id": "18a01e0a-8aeb-4433-90c5-764caad745a2",
   "metadata": {
    "tags": []
   },
   "outputs": [
    {
     "data": {
      "text/html": [
       "<div>\n",
       "<style scoped>\n",
       "    .dataframe tbody tr th:only-of-type {\n",
       "        vertical-align: middle;\n",
       "    }\n",
       "\n",
       "    .dataframe tbody tr th {\n",
       "        vertical-align: top;\n",
       "    }\n",
       "\n",
       "    .dataframe thead th {\n",
       "        text-align: right;\n",
       "    }\n",
       "</style>\n",
       "<table border=\"1\" class=\"dataframe\">\n",
       "  <thead>\n",
       "    <tr style=\"text-align: right;\">\n",
       "      <th></th>\n",
       "      <th>No</th>\n",
       "      <th>Deprem Kodu</th>\n",
       "      <th>Olus tarihi</th>\n",
       "      <th>Olus zamani</th>\n",
       "      <th>Enlem</th>\n",
       "      <th>Boylam</th>\n",
       "      <th>Der(km)</th>\n",
       "      <th>xM</th>\n",
       "      <th>MD</th>\n",
       "      <th>ML</th>\n",
       "      <th>Mw</th>\n",
       "      <th>Ms</th>\n",
       "      <th>Mb</th>\n",
       "      <th>Tip</th>\n",
       "      <th>Yer</th>\n",
       "    </tr>\n",
       "  </thead>\n",
       "  <tbody>\n",
       "    <tr>\n",
       "      <th>0</th>\n",
       "      <td>1</td>\n",
       "      <td>20230731215338</td>\n",
       "      <td>2023.07.31</td>\n",
       "      <td>21:53:38.29</td>\n",
       "      <td>37.4153</td>\n",
       "      <td>37.1703</td>\n",
       "      <td>4.0</td>\n",
       "      <td>3.5</td>\n",
       "      <td>0.0</td>\n",
       "      <td>3.5</td>\n",
       "      <td>3.4</td>\n",
       "      <td>0.0</td>\n",
       "      <td>0.0</td>\n",
       "      <td>1</td>\n",
       "      <td>DOGANLI-PAZARCIK (KAHRAMANMARAS) [East 1.3 km]</td>\n",
       "    </tr>\n",
       "    <tr>\n",
       "      <th>1</th>\n",
       "      <td>2</td>\n",
       "      <td>20230731152316</td>\n",
       "      <td>2023.07.31</td>\n",
       "      <td>15:23:16.85</td>\n",
       "      <td>38.1413</td>\n",
       "      <td>38.4340</td>\n",
       "      <td>5.2</td>\n",
       "      <td>3.5</td>\n",
       "      <td>0.0</td>\n",
       "      <td>3.5</td>\n",
       "      <td>3.4</td>\n",
       "      <td>0.0</td>\n",
       "      <td>0.0</td>\n",
       "      <td>1</td>\n",
       "      <td>AKSU-SINCIK (ADIYAMAN) [West 6.4 km]</td>\n",
       "    </tr>\n",
       "    <tr>\n",
       "      <th>2</th>\n",
       "      <td>3</td>\n",
       "      <td>20230731025049</td>\n",
       "      <td>2023.07.31</td>\n",
       "      <td>02:50:49.84</td>\n",
       "      <td>37.8352</td>\n",
       "      <td>26.8353</td>\n",
       "      <td>6.2</td>\n",
       "      <td>3.0</td>\n",
       "      <td>0.0</td>\n",
       "      <td>3.0</td>\n",
       "      <td>0.0</td>\n",
       "      <td>0.0</td>\n",
       "      <td>0.0</td>\n",
       "      <td>1</td>\n",
       "      <td>SISAM ADASI (EGE DENIZI)</td>\n",
       "    </tr>\n",
       "    <tr>\n",
       "      <th>3</th>\n",
       "      <td>4</td>\n",
       "      <td>20230730201940</td>\n",
       "      <td>2023.07.30</td>\n",
       "      <td>20:19:40.49</td>\n",
       "      <td>40.8085</td>\n",
       "      <td>31.0183</td>\n",
       "      <td>5.3</td>\n",
       "      <td>3.1</td>\n",
       "      <td>0.0</td>\n",
       "      <td>3.1</td>\n",
       "      <td>3.1</td>\n",
       "      <td>0.0</td>\n",
       "      <td>0.0</td>\n",
       "      <td>1</td>\n",
       "      <td>ICMELER-GOLYAKA (DUZCE) [South East  0.7 km]</td>\n",
       "    </tr>\n",
       "    <tr>\n",
       "      <th>4</th>\n",
       "      <td>5</td>\n",
       "      <td>20230730161352</td>\n",
       "      <td>2023.07.30</td>\n",
       "      <td>16:13:52.62</td>\n",
       "      <td>38.1290</td>\n",
       "      <td>38.1863</td>\n",
       "      <td>2.4</td>\n",
       "      <td>3.0</td>\n",
       "      <td>0.0</td>\n",
       "      <td>3.0</td>\n",
       "      <td>0.0</td>\n",
       "      <td>0.0</td>\n",
       "      <td>0.0</td>\n",
       "      <td>1</td>\n",
       "      <td>CAMPINAR-CELIKHAN (ADIYAMAN) [North West  4.3 km]</td>\n",
       "    </tr>\n",
       "  </tbody>\n",
       "</table>\n",
       "</div>"
      ],
      "text/plain": [
       "   No         Deprem Kodu Olus tarihi  Olus zamani    Enlem   Boylam  Der(km)  \\\n",
       "0       1  20230731215338  2023.07.31  21:53:38.29  37.4153  37.1703      4.0   \n",
       "1       2  20230731152316  2023.07.31  15:23:16.85  38.1413  38.4340      5.2   \n",
       "2       3  20230731025049  2023.07.31  02:50:49.84  37.8352  26.8353      6.2   \n",
       "3       4  20230730201940  2023.07.30  20:19:40.49  40.8085  31.0183      5.3   \n",
       "4       5  20230730161352  2023.07.30  16:13:52.62  38.1290  38.1863      2.4   \n",
       "\n",
       "    xM   MD   ML   Mw   Ms   Mb  Tip  \\\n",
       "0  3.5  0.0  3.5  3.4  0.0  0.0    1   \n",
       "1  3.5  0.0  3.5  3.4  0.0  0.0    1   \n",
       "2  3.0  0.0  3.0  0.0  0.0  0.0    1   \n",
       "3  3.1  0.0  3.1  3.1  0.0  0.0    1   \n",
       "4  3.0  0.0  3.0  0.0  0.0  0.0    1   \n",
       "\n",
       "                                                 Yer  \n",
       "0     DOGANLI-PAZARCIK (KAHRAMANMARAS) [East 1.3 km]  \n",
       "1               AKSU-SINCIK (ADIYAMAN) [West 6.4 km]  \n",
       "2                           SISAM ADASI (EGE DENIZI)  \n",
       "3       ICMELER-GOLYAKA (DUZCE) [South East  0.7 km]  \n",
       "4  CAMPINAR-CELIKHAN (ADIYAMAN) [North West  4.3 km]  "
      ]
     },
     "execution_count": 3,
     "metadata": {},
     "output_type": "execute_result"
    }
   ],
   "source": [
    "df.head()"
   ]
  },
  {
   "cell_type": "code",
   "execution_count": 4,
   "id": "993d5edf-b957-4014-80e0-3a4716a5bb76",
   "metadata": {
    "tags": []
   },
   "outputs": [],
   "source": [
    "df.drop(['No    ','Deprem Kodu','Olus tarihi','Olus zamani','Yer'],axis=1,inplace=True)"
   ]
  },
  {
   "cell_type": "code",
   "execution_count": 5,
   "id": "9787b5bd-799f-46b7-b568-1bd5a204b988",
   "metadata": {
    "tags": []
   },
   "outputs": [
    {
     "data": {
      "text/plain": [
       "1    49886\n",
       "0      114\n",
       "Name: Tip, dtype: int64"
      ]
     },
     "execution_count": 5,
     "metadata": {},
     "output_type": "execute_result"
    }
   ],
   "source": [
    "df['Tip'].value_counts()"
   ]
  },
  {
   "cell_type": "code",
   "execution_count": 6,
   "id": "1f0a1182-4ca9-4a79-a4f3-3d4497806c84",
   "metadata": {
    "tags": []
   },
   "outputs": [
    {
     "data": {
      "text/html": [
       "<div>\n",
       "<style scoped>\n",
       "    .dataframe tbody tr th:only-of-type {\n",
       "        vertical-align: middle;\n",
       "    }\n",
       "\n",
       "    .dataframe tbody tr th {\n",
       "        vertical-align: top;\n",
       "    }\n",
       "\n",
       "    .dataframe thead th {\n",
       "        text-align: right;\n",
       "    }\n",
       "</style>\n",
       "<table border=\"1\" class=\"dataframe\">\n",
       "  <thead>\n",
       "    <tr style=\"text-align: right;\">\n",
       "      <th></th>\n",
       "      <th>Enlem</th>\n",
       "      <th>Boylam</th>\n",
       "      <th>Der(km)</th>\n",
       "      <th>xM</th>\n",
       "      <th>MD</th>\n",
       "      <th>ML</th>\n",
       "      <th>Mw</th>\n",
       "      <th>Ms</th>\n",
       "      <th>Mb</th>\n",
       "      <th>Tip</th>\n",
       "    </tr>\n",
       "  </thead>\n",
       "  <tbody>\n",
       "    <tr>\n",
       "      <th>0</th>\n",
       "      <td>37.4153</td>\n",
       "      <td>37.1703</td>\n",
       "      <td>4.0</td>\n",
       "      <td>3.5</td>\n",
       "      <td>0.0</td>\n",
       "      <td>3.5</td>\n",
       "      <td>3.4</td>\n",
       "      <td>0.0</td>\n",
       "      <td>0.0</td>\n",
       "      <td>1</td>\n",
       "    </tr>\n",
       "    <tr>\n",
       "      <th>1</th>\n",
       "      <td>38.1413</td>\n",
       "      <td>38.4340</td>\n",
       "      <td>5.2</td>\n",
       "      <td>3.5</td>\n",
       "      <td>0.0</td>\n",
       "      <td>3.5</td>\n",
       "      <td>3.4</td>\n",
       "      <td>0.0</td>\n",
       "      <td>0.0</td>\n",
       "      <td>1</td>\n",
       "    </tr>\n",
       "    <tr>\n",
       "      <th>2</th>\n",
       "      <td>37.8352</td>\n",
       "      <td>26.8353</td>\n",
       "      <td>6.2</td>\n",
       "      <td>3.0</td>\n",
       "      <td>0.0</td>\n",
       "      <td>3.0</td>\n",
       "      <td>0.0</td>\n",
       "      <td>0.0</td>\n",
       "      <td>0.0</td>\n",
       "      <td>1</td>\n",
       "    </tr>\n",
       "    <tr>\n",
       "      <th>3</th>\n",
       "      <td>40.8085</td>\n",
       "      <td>31.0183</td>\n",
       "      <td>5.3</td>\n",
       "      <td>3.1</td>\n",
       "      <td>0.0</td>\n",
       "      <td>3.1</td>\n",
       "      <td>3.1</td>\n",
       "      <td>0.0</td>\n",
       "      <td>0.0</td>\n",
       "      <td>1</td>\n",
       "    </tr>\n",
       "    <tr>\n",
       "      <th>4</th>\n",
       "      <td>38.1290</td>\n",
       "      <td>38.1863</td>\n",
       "      <td>2.4</td>\n",
       "      <td>3.0</td>\n",
       "      <td>0.0</td>\n",
       "      <td>3.0</td>\n",
       "      <td>0.0</td>\n",
       "      <td>0.0</td>\n",
       "      <td>0.0</td>\n",
       "      <td>1</td>\n",
       "    </tr>\n",
       "  </tbody>\n",
       "</table>\n",
       "</div>"
      ],
      "text/plain": [
       "     Enlem   Boylam  Der(km)   xM   MD   ML   Mw   Ms   Mb  Tip\n",
       "0  37.4153  37.1703      4.0  3.5  0.0  3.5  3.4  0.0  0.0    1\n",
       "1  38.1413  38.4340      5.2  3.5  0.0  3.5  3.4  0.0  0.0    1\n",
       "2  37.8352  26.8353      6.2  3.0  0.0  3.0  0.0  0.0  0.0    1\n",
       "3  40.8085  31.0183      5.3  3.1  0.0  3.1  3.1  0.0  0.0    1\n",
       "4  38.1290  38.1863      2.4  3.0  0.0  3.0  0.0  0.0  0.0    1"
      ]
     },
     "execution_count": 6,
     "metadata": {},
     "output_type": "execute_result"
    }
   ],
   "source": [
    "df.head()"
   ]
  },
  {
   "cell_type": "code",
   "execution_count": 7,
   "id": "8eb7c59b-ea77-49cf-b7bb-e4ec9e1e0a5b",
   "metadata": {
    "tags": []
   },
   "outputs": [],
   "source": [
    "df['Der'] = df['Der(km)']\n",
    "df.drop(['Der(km)'],axis=1,inplace=True)"
   ]
  },
  {
   "cell_type": "code",
   "execution_count": 8,
   "id": "f8d9900c-c4d0-4134-8afa-64b77ee18b7e",
   "metadata": {
    "tags": []
   },
   "outputs": [
    {
     "data": {
      "text/html": [
       "<div>\n",
       "<style scoped>\n",
       "    .dataframe tbody tr th:only-of-type {\n",
       "        vertical-align: middle;\n",
       "    }\n",
       "\n",
       "    .dataframe tbody tr th {\n",
       "        vertical-align: top;\n",
       "    }\n",
       "\n",
       "    .dataframe thead th {\n",
       "        text-align: right;\n",
       "    }\n",
       "</style>\n",
       "<table border=\"1\" class=\"dataframe\">\n",
       "  <thead>\n",
       "    <tr style=\"text-align: right;\">\n",
       "      <th></th>\n",
       "      <th>Enlem</th>\n",
       "      <th>Boylam</th>\n",
       "      <th>xM</th>\n",
       "      <th>MD</th>\n",
       "      <th>ML</th>\n",
       "      <th>Mw</th>\n",
       "      <th>Ms</th>\n",
       "      <th>Mb</th>\n",
       "      <th>Tip</th>\n",
       "      <th>Der</th>\n",
       "    </tr>\n",
       "  </thead>\n",
       "  <tbody>\n",
       "    <tr>\n",
       "      <th>0</th>\n",
       "      <td>37.4153</td>\n",
       "      <td>37.1703</td>\n",
       "      <td>3.5</td>\n",
       "      <td>0.0</td>\n",
       "      <td>3.5</td>\n",
       "      <td>3.4</td>\n",
       "      <td>0.0</td>\n",
       "      <td>0.0</td>\n",
       "      <td>1</td>\n",
       "      <td>4.0</td>\n",
       "    </tr>\n",
       "    <tr>\n",
       "      <th>1</th>\n",
       "      <td>38.1413</td>\n",
       "      <td>38.4340</td>\n",
       "      <td>3.5</td>\n",
       "      <td>0.0</td>\n",
       "      <td>3.5</td>\n",
       "      <td>3.4</td>\n",
       "      <td>0.0</td>\n",
       "      <td>0.0</td>\n",
       "      <td>1</td>\n",
       "      <td>5.2</td>\n",
       "    </tr>\n",
       "    <tr>\n",
       "      <th>2</th>\n",
       "      <td>37.8352</td>\n",
       "      <td>26.8353</td>\n",
       "      <td>3.0</td>\n",
       "      <td>0.0</td>\n",
       "      <td>3.0</td>\n",
       "      <td>0.0</td>\n",
       "      <td>0.0</td>\n",
       "      <td>0.0</td>\n",
       "      <td>1</td>\n",
       "      <td>6.2</td>\n",
       "    </tr>\n",
       "    <tr>\n",
       "      <th>3</th>\n",
       "      <td>40.8085</td>\n",
       "      <td>31.0183</td>\n",
       "      <td>3.1</td>\n",
       "      <td>0.0</td>\n",
       "      <td>3.1</td>\n",
       "      <td>3.1</td>\n",
       "      <td>0.0</td>\n",
       "      <td>0.0</td>\n",
       "      <td>1</td>\n",
       "      <td>5.3</td>\n",
       "    </tr>\n",
       "    <tr>\n",
       "      <th>4</th>\n",
       "      <td>38.1290</td>\n",
       "      <td>38.1863</td>\n",
       "      <td>3.0</td>\n",
       "      <td>0.0</td>\n",
       "      <td>3.0</td>\n",
       "      <td>0.0</td>\n",
       "      <td>0.0</td>\n",
       "      <td>0.0</td>\n",
       "      <td>1</td>\n",
       "      <td>2.4</td>\n",
       "    </tr>\n",
       "  </tbody>\n",
       "</table>\n",
       "</div>"
      ],
      "text/plain": [
       "     Enlem   Boylam   xM   MD   ML   Mw   Ms   Mb  Tip  Der\n",
       "0  37.4153  37.1703  3.5  0.0  3.5  3.4  0.0  0.0    1  4.0\n",
       "1  38.1413  38.4340  3.5  0.0  3.5  3.4  0.0  0.0    1  5.2\n",
       "2  37.8352  26.8353  3.0  0.0  3.0  0.0  0.0  0.0    1  6.2\n",
       "3  40.8085  31.0183  3.1  0.0  3.1  3.1  0.0  0.0    1  5.3\n",
       "4  38.1290  38.1863  3.0  0.0  3.0  0.0  0.0  0.0    1  2.4"
      ]
     },
     "execution_count": 8,
     "metadata": {},
     "output_type": "execute_result"
    }
   ],
   "source": [
    "df.head()"
   ]
  },
  {
   "cell_type": "code",
   "execution_count": 9,
   "id": "f40486f8-70e9-45db-afc0-aacbc3b8b703",
   "metadata": {
    "tags": []
   },
   "outputs": [],
   "source": [
    "### Data düzenlendi istediğim değerleri bıraktım daha fazla inceleyceğim şimdi"
   ]
  },
  {
   "cell_type": "code",
   "execution_count": 10,
   "id": "83c321a5-2dd4-4586-8c54-544d239f659c",
   "metadata": {
    "tags": []
   },
   "outputs": [
    {
     "name": "stdout",
     "output_type": "stream",
     "text": [
      "<class 'pandas.core.frame.DataFrame'>\n",
      "RangeIndex: 50000 entries, 0 to 49999\n",
      "Data columns (total 10 columns):\n",
      " #   Column  Non-Null Count  Dtype  \n",
      "---  ------  --------------  -----  \n",
      " 0   Enlem   50000 non-null  float64\n",
      " 1   Boylam  50000 non-null  float64\n",
      " 2   xM      50000 non-null  float64\n",
      " 3   MD      50000 non-null  float64\n",
      " 4   ML      50000 non-null  float64\n",
      " 5   Mw      12922 non-null  float64\n",
      " 6   Ms      50000 non-null  float64\n",
      " 7   Mb      50000 non-null  float64\n",
      " 8   Tip     50000 non-null  int64  \n",
      " 9   Der     50000 non-null  float64\n",
      "dtypes: float64(9), int64(1)\n",
      "memory usage: 3.8 MB\n"
     ]
    }
   ],
   "source": [
    "df.info() ## Null yani kayıp değer bulunuyor o da MW"
   ]
  },
  {
   "cell_type": "code",
   "execution_count": 11,
   "id": "f3064d5a-6650-4269-befc-fab71c1a508f",
   "metadata": {
    "tags": []
   },
   "outputs": [],
   "source": [
    "df.drop(['Mw'],axis=1,inplace=True)"
   ]
  },
  {
   "cell_type": "code",
   "execution_count": 12,
   "id": "c23adba9-c76d-4cfb-9dbb-4c318f43734e",
   "metadata": {
    "tags": []
   },
   "outputs": [
    {
     "data": {
      "text/html": [
       "<div>\n",
       "<style scoped>\n",
       "    .dataframe tbody tr th:only-of-type {\n",
       "        vertical-align: middle;\n",
       "    }\n",
       "\n",
       "    .dataframe tbody tr th {\n",
       "        vertical-align: top;\n",
       "    }\n",
       "\n",
       "    .dataframe thead th {\n",
       "        text-align: right;\n",
       "    }\n",
       "</style>\n",
       "<table border=\"1\" class=\"dataframe\">\n",
       "  <thead>\n",
       "    <tr style=\"text-align: right;\">\n",
       "      <th></th>\n",
       "      <th>count</th>\n",
       "      <th>mean</th>\n",
       "      <th>std</th>\n",
       "      <th>min</th>\n",
       "      <th>25%</th>\n",
       "      <th>50%</th>\n",
       "      <th>75%</th>\n",
       "      <th>max</th>\n",
       "    </tr>\n",
       "  </thead>\n",
       "  <tbody>\n",
       "    <tr>\n",
       "      <th>Enlem</th>\n",
       "      <td>50000.0</td>\n",
       "      <td>38.300424</td>\n",
       "      <td>1.464283</td>\n",
       "      <td>35.0</td>\n",
       "      <td>37.192725</td>\n",
       "      <td>38.36</td>\n",
       "      <td>39.26755</td>\n",
       "      <td>41.9982</td>\n",
       "    </tr>\n",
       "    <tr>\n",
       "      <th>Boylam</th>\n",
       "      <td>50000.0</td>\n",
       "      <td>32.963727</td>\n",
       "      <td>5.746905</td>\n",
       "      <td>26.0</td>\n",
       "      <td>27.820000</td>\n",
       "      <td>30.88</td>\n",
       "      <td>38.02510</td>\n",
       "      <td>44.9992</td>\n",
       "    </tr>\n",
       "    <tr>\n",
       "      <th>xM</th>\n",
       "      <td>50000.0</td>\n",
       "      <td>3.344862</td>\n",
       "      <td>0.395971</td>\n",
       "      <td>3.0</td>\n",
       "      <td>3.100000</td>\n",
       "      <td>3.20</td>\n",
       "      <td>3.50000</td>\n",
       "      <td>7.7000</td>\n",
       "    </tr>\n",
       "    <tr>\n",
       "      <th>MD</th>\n",
       "      <td>50000.0</td>\n",
       "      <td>1.921914</td>\n",
       "      <td>1.613644</td>\n",
       "      <td>0.0</td>\n",
       "      <td>0.000000</td>\n",
       "      <td>3.00</td>\n",
       "      <td>3.20000</td>\n",
       "      <td>6.7000</td>\n",
       "    </tr>\n",
       "    <tr>\n",
       "      <th>ML</th>\n",
       "      <td>50000.0</td>\n",
       "      <td>1.464486</td>\n",
       "      <td>1.732178</td>\n",
       "      <td>0.0</td>\n",
       "      <td>0.000000</td>\n",
       "      <td>0.00</td>\n",
       "      <td>3.20000</td>\n",
       "      <td>7.5000</td>\n",
       "    </tr>\n",
       "    <tr>\n",
       "      <th>Ms</th>\n",
       "      <td>50000.0</td>\n",
       "      <td>0.001400</td>\n",
       "      <td>0.087321</td>\n",
       "      <td>0.0</td>\n",
       "      <td>0.000000</td>\n",
       "      <td>0.00</td>\n",
       "      <td>0.00000</td>\n",
       "      <td>6.4000</td>\n",
       "    </tr>\n",
       "    <tr>\n",
       "      <th>Mb</th>\n",
       "      <td>50000.0</td>\n",
       "      <td>0.051334</td>\n",
       "      <td>0.472931</td>\n",
       "      <td>0.0</td>\n",
       "      <td>0.000000</td>\n",
       "      <td>0.00</td>\n",
       "      <td>0.00000</td>\n",
       "      <td>5.8000</td>\n",
       "    </tr>\n",
       "    <tr>\n",
       "      <th>Tip</th>\n",
       "      <td>50000.0</td>\n",
       "      <td>0.997720</td>\n",
       "      <td>0.047695</td>\n",
       "      <td>0.0</td>\n",
       "      <td>1.000000</td>\n",
       "      <td>1.00</td>\n",
       "      <td>1.00000</td>\n",
       "      <td>1.0000</td>\n",
       "    </tr>\n",
       "    <tr>\n",
       "      <th>Der</th>\n",
       "      <td>50000.0</td>\n",
       "      <td>9.995948</td>\n",
       "      <td>12.580761</td>\n",
       "      <td>0.0</td>\n",
       "      <td>5.000000</td>\n",
       "      <td>6.90</td>\n",
       "      <td>10.50000</td>\n",
       "      <td>154.7000</td>\n",
       "    </tr>\n",
       "  </tbody>\n",
       "</table>\n",
       "</div>"
      ],
      "text/plain": [
       "          count       mean        std   min        25%    50%       75%  \\\n",
       "Enlem   50000.0  38.300424   1.464283  35.0  37.192725  38.36  39.26755   \n",
       "Boylam  50000.0  32.963727   5.746905  26.0  27.820000  30.88  38.02510   \n",
       "xM      50000.0   3.344862   0.395971   3.0   3.100000   3.20   3.50000   \n",
       "MD      50000.0   1.921914   1.613644   0.0   0.000000   3.00   3.20000   \n",
       "ML      50000.0   1.464486   1.732178   0.0   0.000000   0.00   3.20000   \n",
       "Ms      50000.0   0.001400   0.087321   0.0   0.000000   0.00   0.00000   \n",
       "Mb      50000.0   0.051334   0.472931   0.0   0.000000   0.00   0.00000   \n",
       "Tip     50000.0   0.997720   0.047695   0.0   1.000000   1.00   1.00000   \n",
       "Der     50000.0   9.995948  12.580761   0.0   5.000000   6.90  10.50000   \n",
       "\n",
       "             max  \n",
       "Enlem    41.9982  \n",
       "Boylam   44.9992  \n",
       "xM        7.7000  \n",
       "MD        6.7000  \n",
       "ML        7.5000  \n",
       "Ms        6.4000  \n",
       "Mb        5.8000  \n",
       "Tip       1.0000  \n",
       "Der     154.7000  "
      ]
     },
     "execution_count": 12,
     "metadata": {},
     "output_type": "execute_result"
    }
   ],
   "source": [
    "df.describe().T"
   ]
  },
  {
   "cell_type": "code",
   "execution_count": 13,
   "id": "17663ca3-672a-4b4e-92e2-25fad7059350",
   "metadata": {
    "tags": []
   },
   "outputs": [
    {
     "data": {
      "text/html": [
       "<div>\n",
       "<style scoped>\n",
       "    .dataframe tbody tr th:only-of-type {\n",
       "        vertical-align: middle;\n",
       "    }\n",
       "\n",
       "    .dataframe tbody tr th {\n",
       "        vertical-align: top;\n",
       "    }\n",
       "\n",
       "    .dataframe thead th {\n",
       "        text-align: right;\n",
       "    }\n",
       "</style>\n",
       "<table border=\"1\" class=\"dataframe\">\n",
       "  <thead>\n",
       "    <tr style=\"text-align: right;\">\n",
       "      <th></th>\n",
       "      <th>Enlem</th>\n",
       "      <th>Boylam</th>\n",
       "      <th>xM</th>\n",
       "      <th>MD</th>\n",
       "      <th>ML</th>\n",
       "      <th>Ms</th>\n",
       "      <th>Mb</th>\n",
       "      <th>Tip</th>\n",
       "      <th>Der</th>\n",
       "    </tr>\n",
       "  </thead>\n",
       "  <tbody>\n",
       "    <tr>\n",
       "      <th>Enlem</th>\n",
       "      <td>1.000000</td>\n",
       "      <td>0.221356</td>\n",
       "      <td>-0.107137</td>\n",
       "      <td>0.164644</td>\n",
       "      <td>-0.175177</td>\n",
       "      <td>0.003331</td>\n",
       "      <td>-0.030247</td>\n",
       "      <td>-0.029786</td>\n",
       "      <td>-0.231389</td>\n",
       "    </tr>\n",
       "    <tr>\n",
       "      <th>Boylam</th>\n",
       "      <td>0.221356</td>\n",
       "      <td>1.000000</td>\n",
       "      <td>0.077814</td>\n",
       "      <td>-0.067345</td>\n",
       "      <td>0.078087</td>\n",
       "      <td>0.004094</td>\n",
       "      <td>0.046159</td>\n",
       "      <td>-0.001012</td>\n",
       "      <td>-0.146107</td>\n",
       "    </tr>\n",
       "    <tr>\n",
       "      <th>xM</th>\n",
       "      <td>-0.107137</td>\n",
       "      <td>0.077814</td>\n",
       "      <td>1.000000</td>\n",
       "      <td>-0.196492</td>\n",
       "      <td>0.432205</td>\n",
       "      <td>0.087494</td>\n",
       "      <td>0.305157</td>\n",
       "      <td>0.033692</td>\n",
       "      <td>0.053213</td>\n",
       "    </tr>\n",
       "    <tr>\n",
       "      <th>MD</th>\n",
       "      <td>0.164644</td>\n",
       "      <td>-0.067345</td>\n",
       "      <td>-0.196492</td>\n",
       "      <td>1.000000</td>\n",
       "      <td>-0.929313</td>\n",
       "      <td>0.017116</td>\n",
       "      <td>-0.041307</td>\n",
       "      <td>-0.033108</td>\n",
       "      <td>0.018478</td>\n",
       "    </tr>\n",
       "    <tr>\n",
       "      <th>ML</th>\n",
       "      <td>-0.175177</td>\n",
       "      <td>0.078087</td>\n",
       "      <td>0.432205</td>\n",
       "      <td>-0.929313</td>\n",
       "      <td>1.000000</td>\n",
       "      <td>-0.003728</td>\n",
       "      <td>0.117370</td>\n",
       "      <td>0.039690</td>\n",
       "      <td>0.001302</td>\n",
       "    </tr>\n",
       "    <tr>\n",
       "      <th>Ms</th>\n",
       "      <td>0.003331</td>\n",
       "      <td>0.004094</td>\n",
       "      <td>0.087494</td>\n",
       "      <td>0.017116</td>\n",
       "      <td>-0.003728</td>\n",
       "      <td>1.000000</td>\n",
       "      <td>0.069366</td>\n",
       "      <td>0.000766</td>\n",
       "      <td>0.014441</td>\n",
       "    </tr>\n",
       "    <tr>\n",
       "      <th>Mb</th>\n",
       "      <td>-0.030247</td>\n",
       "      <td>0.046159</td>\n",
       "      <td>0.305157</td>\n",
       "      <td>-0.041307</td>\n",
       "      <td>0.117370</td>\n",
       "      <td>0.069366</td>\n",
       "      <td>1.000000</td>\n",
       "      <td>0.005189</td>\n",
       "      <td>0.066061</td>\n",
       "    </tr>\n",
       "    <tr>\n",
       "      <th>Tip</th>\n",
       "      <td>-0.029786</td>\n",
       "      <td>-0.001012</td>\n",
       "      <td>0.033692</td>\n",
       "      <td>-0.033108</td>\n",
       "      <td>0.039690</td>\n",
       "      <td>0.000766</td>\n",
       "      <td>0.005189</td>\n",
       "      <td>1.000000</td>\n",
       "      <td>0.008604</td>\n",
       "    </tr>\n",
       "    <tr>\n",
       "      <th>Der</th>\n",
       "      <td>-0.231389</td>\n",
       "      <td>-0.146107</td>\n",
       "      <td>0.053213</td>\n",
       "      <td>0.018478</td>\n",
       "      <td>0.001302</td>\n",
       "      <td>0.014441</td>\n",
       "      <td>0.066061</td>\n",
       "      <td>0.008604</td>\n",
       "      <td>1.000000</td>\n",
       "    </tr>\n",
       "  </tbody>\n",
       "</table>\n",
       "</div>"
      ],
      "text/plain": [
       "           Enlem    Boylam        xM        MD        ML        Ms        Mb  \\\n",
       "Enlem   1.000000  0.221356 -0.107137  0.164644 -0.175177  0.003331 -0.030247   \n",
       "Boylam  0.221356  1.000000  0.077814 -0.067345  0.078087  0.004094  0.046159   \n",
       "xM     -0.107137  0.077814  1.000000 -0.196492  0.432205  0.087494  0.305157   \n",
       "MD      0.164644 -0.067345 -0.196492  1.000000 -0.929313  0.017116 -0.041307   \n",
       "ML     -0.175177  0.078087  0.432205 -0.929313  1.000000 -0.003728  0.117370   \n",
       "Ms      0.003331  0.004094  0.087494  0.017116 -0.003728  1.000000  0.069366   \n",
       "Mb     -0.030247  0.046159  0.305157 -0.041307  0.117370  0.069366  1.000000   \n",
       "Tip    -0.029786 -0.001012  0.033692 -0.033108  0.039690  0.000766  0.005189   \n",
       "Der    -0.231389 -0.146107  0.053213  0.018478  0.001302  0.014441  0.066061   \n",
       "\n",
       "             Tip       Der  \n",
       "Enlem  -0.029786 -0.231389  \n",
       "Boylam -0.001012 -0.146107  \n",
       "xM      0.033692  0.053213  \n",
       "MD     -0.033108  0.018478  \n",
       "ML      0.039690  0.001302  \n",
       "Ms      0.000766  0.014441  \n",
       "Mb      0.005189  0.066061  \n",
       "Tip     1.000000  0.008604  \n",
       "Der     0.008604  1.000000  "
      ]
     },
     "execution_count": 13,
     "metadata": {},
     "output_type": "execute_result"
    }
   ],
   "source": [
    "df.corr()"
   ]
  },
  {
   "cell_type": "code",
   "execution_count": null,
   "id": "b3871724-73b9-47e6-887e-c5d329bd259b",
   "metadata": {
    "tags": []
   },
   "outputs": [],
   "source": []
  },
  {
   "cell_type": "code",
   "execution_count": 14,
   "id": "eba65629-bc16-4efc-8407-76d78829b535",
   "metadata": {
    "tags": []
   },
   "outputs": [],
   "source": [
    "X=df.drop(['xM'],axis=1)\n",
    "y=df['xM']\n",
    "\n",
    "X_train, X_test, y_train, y_test = train_test_split(X, y, test_size=0.30, random_state=42)\n"
   ]
  },
  {
   "cell_type": "code",
   "execution_count": 15,
   "id": "1683798c-1d69-4d28-a25b-61d6d9b4756f",
   "metadata": {
    "tags": []
   },
   "outputs": [],
   "source": [
    "lr = LinearRegression()\n",
    "model = lr.fit(X_train,y_train)\n",
    "lin_pred=model.predict(X_test)"
   ]
  },
  {
   "cell_type": "code",
   "execution_count": 16,
   "id": "8d383e75-e119-4583-abb4-11191c5fde54",
   "metadata": {
    "tags": []
   },
   "outputs": [
    {
     "name": "stdout",
     "output_type": "stream",
     "text": [
      "0.1748840823490118\n"
     ]
    }
   ],
   "source": [
    "print(mean_absolute_error(y_test,lin_pred))"
   ]
  },
  {
   "cell_type": "code",
   "execution_count": 17,
   "id": "6b1353df-8ff0-483e-92c9-ddf05070988d",
   "metadata": {
    "tags": []
   },
   "outputs": [
    {
     "name": "stdout",
     "output_type": "stream",
     "text": [
      "0.270991060295233\n"
     ]
    }
   ],
   "source": [
    "print(np.sqrt(mean_squared_error(y_test,lin_pred)))"
   ]
  },
  {
   "cell_type": "code",
   "execution_count": 18,
   "id": "107bd95d-0f94-4085-9513-b489e395a225",
   "metadata": {
    "tags": []
   },
   "outputs": [],
   "source": [
    "lin_error = mean_absolute_error(y_test,lin_pred)"
   ]
  },
  {
   "cell_type": "code",
   "execution_count": 19,
   "id": "d38cbdee-dca8-4672-b95a-68aaa428f20b",
   "metadata": {
    "tags": []
   },
   "outputs": [],
   "source": [
    "lin_ss_error = np.sqrt(mean_squared_error(y_test,lin_pred))"
   ]
  },
  {
   "cell_type": "code",
   "execution_count": 20,
   "id": "9d97fa7c-6a58-46e9-8564-58c175ddf0b3",
   "metadata": {
    "tags": []
   },
   "outputs": [
    {
     "data": {
      "image/png": "[encoded data removed]",
      "text/plain": [
       "<Figure size 640x480 with 1 Axes>"
      ]
     },
     "metadata": {},
     "output_type": "display_data"
    }
   ],
   "source": [
    "plt.scatter(x = y_test,y=lin_pred ,label = 'Lin Pred')\n",
    "plt.xlabel('True Values')\n",
    "plt.ylabel('Predictions')\n",
    "lims=[0,10]\n",
    "plt.xlim(0,10)\n",
    "plt.ylim(0,10)\n",
    "plt.legend()\n",
    "_ = plt.plot(lims,lims,c='red')"
   ]
  },
  {
   "cell_type": "code",
   "execution_count": 21,
   "id": "2c4ece2e-2812-4cee-a736-7100d48df264",
   "metadata": {
    "tags": []
   },
   "outputs": [],
   "source": [
    "comp_df = pd.DataFrame(y_test,columns=['xM'])\n",
    "comp_df['Pred'] = lin_pred\n",
    "\n",
    "comp_df.head()\n",
    "\n",
    "\n",
    "\n",
    "ad_comp_df=comp_df.reset_index()"
   ]
  },
  {
   "cell_type": "code",
   "execution_count": 22,
   "id": "30508b3c-3578-4b87-8631-6ac1ca82f573",
   "metadata": {
    "tags": []
   },
   "outputs": [
    {
     "data": {
      "text/html": [
       "<div>\n",
       "<style scoped>\n",
       "    .dataframe tbody tr th:only-of-type {\n",
       "        vertical-align: middle;\n",
       "    }\n",
       "\n",
       "    .dataframe tbody tr th {\n",
       "        vertical-align: top;\n",
       "    }\n",
       "\n",
       "    .dataframe thead th {\n",
       "        text-align: right;\n",
       "    }\n",
       "</style>\n",
       "<table border=\"1\" class=\"dataframe\">\n",
       "  <thead>\n",
       "    <tr style=\"text-align: right;\">\n",
       "      <th></th>\n",
       "      <th>index</th>\n",
       "      <th>xM</th>\n",
       "      <th>Pred</th>\n",
       "    </tr>\n",
       "  </thead>\n",
       "  <tbody>\n",
       "    <tr>\n",
       "      <th>0</th>\n",
       "      <td>33553</td>\n",
       "      <td>3.7</td>\n",
       "      <td>3.407768</td>\n",
       "    </tr>\n",
       "    <tr>\n",
       "      <th>1</th>\n",
       "      <td>9427</td>\n",
       "      <td>3.7</td>\n",
       "      <td>3.533572</td>\n",
       "    </tr>\n",
       "    <tr>\n",
       "      <th>2</th>\n",
       "      <td>199</td>\n",
       "      <td>3.7</td>\n",
       "      <td>3.564108</td>\n",
       "    </tr>\n",
       "    <tr>\n",
       "      <th>3</th>\n",
       "      <td>12447</td>\n",
       "      <td>3.1</td>\n",
       "      <td>3.297328</td>\n",
       "    </tr>\n",
       "    <tr>\n",
       "      <th>4</th>\n",
       "      <td>39489</td>\n",
       "      <td>3.3</td>\n",
       "      <td>3.245367</td>\n",
       "    </tr>\n",
       "  </tbody>\n",
       "</table>\n",
       "</div>"
      ],
      "text/plain": [
       "   index   xM      Pred\n",
       "0  33553  3.7  3.407768\n",
       "1   9427  3.7  3.533572\n",
       "2    199  3.7  3.564108\n",
       "3  12447  3.1  3.297328\n",
       "4  39489  3.3  3.245367"
      ]
     },
     "execution_count": 22,
     "metadata": {},
     "output_type": "execute_result"
    }
   ],
   "source": [
    "ad_comp_df.head()"
   ]
  },
  {
   "cell_type": "code",
   "execution_count": 23,
   "id": "b08a37f1-b046-4aa2-ac0d-04c749088cd9",
   "metadata": {
    "tags": []
   },
   "outputs": [],
   "source": [
    "error_per_list = []\n",
    "for i in range(len(ad_comp_df)):\n",
    "    error_per = ((100) - (((abs((ad_comp_df['xM'][i])-ad_comp_df['Pred'][i]))*100)/(ad_comp_df['xM'][i])))\n",
    "    error_per_list.append(error_per)\n",
    "    \n",
    "    \n",
    "    ### pred ve real değerleri kurduğum bir matematiksel işlem ile yüzdelik dilimini veriyor accuracy bazında "
   ]
  },
  {
   "cell_type": "code",
   "execution_count": 24,
   "id": "1fe189b8-33bc-45f7-9ddf-fc215294808b",
   "metadata": {
    "tags": []
   },
   "outputs": [
    {
     "data": {
      "text/plain": [
       "[92.1018263362062,\n",
       " 95.50195315868847,\n",
       " 96.32725082364534,\n",
       " 93.63456853577189,\n",
       " 98.34445775161221]"
      ]
     },
     "execution_count": 24,
     "metadata": {},
     "output_type": "execute_result"
    }
   ],
   "source": [
    "error_per_list[:5]"
   ]
  },
  {
   "cell_type": "code",
   "execution_count": 25,
   "id": "2a07470a-3405-44dc-9acd-5aebd958e552",
   "metadata": {
    "tags": []
   },
   "outputs": [],
   "source": [
    "ad_comp_df['Acc_per'] = error_per_list"
   ]
  },
  {
   "cell_type": "code",
   "execution_count": 26,
   "id": "f31ba054-6b26-4ccc-a131-57a68bb913c4",
   "metadata": {
    "tags": []
   },
   "outputs": [
    {
     "data": {
      "text/html": [
       "<div>\n",
       "<style scoped>\n",
       "    .dataframe tbody tr th:only-of-type {\n",
       "        vertical-align: middle;\n",
       "    }\n",
       "\n",
       "    .dataframe tbody tr th {\n",
       "        vertical-align: top;\n",
       "    }\n",
       "\n",
       "    .dataframe thead th {\n",
       "        text-align: right;\n",
       "    }\n",
       "</style>\n",
       "<table border=\"1\" class=\"dataframe\">\n",
       "  <thead>\n",
       "    <tr style=\"text-align: right;\">\n",
       "      <th></th>\n",
       "      <th>index</th>\n",
       "      <th>xM</th>\n",
       "      <th>Pred</th>\n",
       "      <th>Acc_per</th>\n",
       "    </tr>\n",
       "  </thead>\n",
       "  <tbody>\n",
       "    <tr>\n",
       "      <th>0</th>\n",
       "      <td>33553</td>\n",
       "      <td>3.7</td>\n",
       "      <td>3.407768</td>\n",
       "      <td>92.101826</td>\n",
       "    </tr>\n",
       "    <tr>\n",
       "      <th>1</th>\n",
       "      <td>9427</td>\n",
       "      <td>3.7</td>\n",
       "      <td>3.533572</td>\n",
       "      <td>95.501953</td>\n",
       "    </tr>\n",
       "    <tr>\n",
       "      <th>2</th>\n",
       "      <td>199</td>\n",
       "      <td>3.7</td>\n",
       "      <td>3.564108</td>\n",
       "      <td>96.327251</td>\n",
       "    </tr>\n",
       "    <tr>\n",
       "      <th>3</th>\n",
       "      <td>12447</td>\n",
       "      <td>3.1</td>\n",
       "      <td>3.297328</td>\n",
       "      <td>93.634569</td>\n",
       "    </tr>\n",
       "    <tr>\n",
       "      <th>4</th>\n",
       "      <td>39489</td>\n",
       "      <td>3.3</td>\n",
       "      <td>3.245367</td>\n",
       "      <td>98.344458</td>\n",
       "    </tr>\n",
       "  </tbody>\n",
       "</table>\n",
       "</div>"
      ],
      "text/plain": [
       "   index   xM      Pred    Acc_per\n",
       "0  33553  3.7  3.407768  92.101826\n",
       "1   9427  3.7  3.533572  95.501953\n",
       "2    199  3.7  3.564108  96.327251\n",
       "3  12447  3.1  3.297328  93.634569\n",
       "4  39489  3.3  3.245367  98.344458"
      ]
     },
     "execution_count": 26,
     "metadata": {},
     "output_type": "execute_result"
    }
   ],
   "source": [
    "ad_comp_df.head()"
   ]
  },
  {
   "cell_type": "code",
   "execution_count": 27,
   "id": "1c9e619c-c7fd-4756-b344-ab97b107da2e",
   "metadata": {
    "tags": []
   },
   "outputs": [
    {
     "data": {
      "text/plain": [
       "95.03193176005065"
      ]
     },
     "execution_count": 27,
     "metadata": {},
     "output_type": "execute_result"
    }
   ],
   "source": [
    "ad_comp_df['Acc_per'].mean()"
   ]
  },
  {
   "cell_type": "code",
   "execution_count": 28,
   "id": "c5f27267-bf72-49e0-9054-08de85f86b9b",
   "metadata": {
    "tags": []
   },
   "outputs": [],
   "source": [
    "### ortalama değerleri 95 tutarlı bir şekilde veriyor %5 lik bir uzaklık görülüyor gerçek değerlere"
   ]
  },
  {
   "cell_type": "code",
   "execution_count": 29,
   "id": "6c7c8411-389e-47bf-95f7-60093bb2fd31",
   "metadata": {
    "tags": []
   },
   "outputs": [
    {
     "data": {
      "text/html": [
       "<div>\n",
       "<style scoped>\n",
       "    .dataframe tbody tr th:only-of-type {\n",
       "        vertical-align: middle;\n",
       "    }\n",
       "\n",
       "    .dataframe tbody tr th {\n",
       "        vertical-align: top;\n",
       "    }\n",
       "\n",
       "    .dataframe thead th {\n",
       "        text-align: right;\n",
       "    }\n",
       "</style>\n",
       "<table border=\"1\" class=\"dataframe\">\n",
       "  <thead>\n",
       "    <tr style=\"text-align: right;\">\n",
       "      <th></th>\n",
       "      <th>Enlem</th>\n",
       "      <th>Boylam</th>\n",
       "      <th>xM</th>\n",
       "      <th>MD</th>\n",
       "      <th>ML</th>\n",
       "      <th>Ms</th>\n",
       "      <th>Mb</th>\n",
       "      <th>Tip</th>\n",
       "      <th>Der</th>\n",
       "    </tr>\n",
       "  </thead>\n",
       "  <tbody>\n",
       "    <tr>\n",
       "      <th>0</th>\n",
       "      <td>37.4153</td>\n",
       "      <td>37.1703</td>\n",
       "      <td>3.5</td>\n",
       "      <td>0.0</td>\n",
       "      <td>3.5</td>\n",
       "      <td>0.0</td>\n",
       "      <td>0.0</td>\n",
       "      <td>1</td>\n",
       "      <td>4.0</td>\n",
       "    </tr>\n",
       "    <tr>\n",
       "      <th>1</th>\n",
       "      <td>38.1413</td>\n",
       "      <td>38.4340</td>\n",
       "      <td>3.5</td>\n",
       "      <td>0.0</td>\n",
       "      <td>3.5</td>\n",
       "      <td>0.0</td>\n",
       "      <td>0.0</td>\n",
       "      <td>1</td>\n",
       "      <td>5.2</td>\n",
       "    </tr>\n",
       "    <tr>\n",
       "      <th>2</th>\n",
       "      <td>37.8352</td>\n",
       "      <td>26.8353</td>\n",
       "      <td>3.0</td>\n",
       "      <td>0.0</td>\n",
       "      <td>3.0</td>\n",
       "      <td>0.0</td>\n",
       "      <td>0.0</td>\n",
       "      <td>1</td>\n",
       "      <td>6.2</td>\n",
       "    </tr>\n",
       "    <tr>\n",
       "      <th>3</th>\n",
       "      <td>40.8085</td>\n",
       "      <td>31.0183</td>\n",
       "      <td>3.1</td>\n",
       "      <td>0.0</td>\n",
       "      <td>3.1</td>\n",
       "      <td>0.0</td>\n",
       "      <td>0.0</td>\n",
       "      <td>1</td>\n",
       "      <td>5.3</td>\n",
       "    </tr>\n",
       "    <tr>\n",
       "      <th>4</th>\n",
       "      <td>38.1290</td>\n",
       "      <td>38.1863</td>\n",
       "      <td>3.0</td>\n",
       "      <td>0.0</td>\n",
       "      <td>3.0</td>\n",
       "      <td>0.0</td>\n",
       "      <td>0.0</td>\n",
       "      <td>1</td>\n",
       "      <td>2.4</td>\n",
       "    </tr>\n",
       "  </tbody>\n",
       "</table>\n",
       "</div>"
      ],
      "text/plain": [
       "     Enlem   Boylam   xM   MD   ML   Ms   Mb  Tip  Der\n",
       "0  37.4153  37.1703  3.5  0.0  3.5  0.0  0.0    1  4.0\n",
       "1  38.1413  38.4340  3.5  0.0  3.5  0.0  0.0    1  5.2\n",
       "2  37.8352  26.8353  3.0  0.0  3.0  0.0  0.0    1  6.2\n",
       "3  40.8085  31.0183  3.1  0.0  3.1  0.0  0.0    1  5.3\n",
       "4  38.1290  38.1863  3.0  0.0  3.0  0.0  0.0    1  2.4"
      ]
     },
     "execution_count": 29,
     "metadata": {},
     "output_type": "execute_result"
    }
   ],
   "source": [
    "df.head()"
   ]
  },
  {
   "cell_type": "markdown",
   "id": "a3187c3e-928e-41f4-ad4a-1c899c0e4b5e",
   "metadata": {},
   "source": [
    "# TensorFlow"
   ]
  },
  {
   "cell_type": "code",
   "execution_count": 30,
   "id": "83c76926-c2d5-4d30-9b22-bf7fc192110a",
   "metadata": {
    "tags": []
   },
   "outputs": [],
   "source": [
    "def train_model(X_train,y_train,num_nodes,dropout_prob,lr,batch_size,epochs):\n",
    "    nn_model = tf.keras.Sequential([\n",
    "        tf.keras.layers.Dense(num_nodes,activation='linear',input_shape=(8,)),\n",
    "        tf.keras.layers.Dropout(dropout_prob),\n",
    "        tf.keras.layers.Dense(num_nodes,activation='linear'),\n",
    "        tf.keras.layers.Dropout(dropout_prob),\n",
    "        tf.keras.layers.Dense(num_nodes,activation='linear'),\n",
    "        tf.keras.layers.Dropout(dropout_prob),\n",
    "        tf.keras.layers.Dense(1)\n",
    "])\n",
    "\n",
    "    nn_model.compile(optimizer = tf.keras.optimizers.legacy.Adam(lr),loss='mean_squared_error')\n",
    "    history = nn_model.fit(\n",
    "       X_train,y_train, epochs = epochs,batch_size=batch_size,validation_split=0.2,verbose=0)\n",
    "    \n",
    "    return nn_model,history"
   ]
  },
  {
   "cell_type": "code",
   "execution_count": 31,
   "id": "e955ef15-9f37-4302-9a38-7b2c4fe87268",
   "metadata": {
    "tags": []
   },
   "outputs": [
    {
     "name": "stdout",
     "output_type": "stream",
     "text": [
      "16 nodes , dropout 0 ,lr 0.1 , batch size 32\n",
      "469/469 [==============================] - 0s 182us/step\n",
      "16 nodes , dropout 0 ,lr 0.1 , batch size 64\n",
      "469/469 [==============================] - 0s 180us/step\n",
      "16 nodes , dropout 0 ,lr 0.1 , batch size 128\n",
      "469/469 [==============================] - 0s 183us/step\n",
      "16 nodes , dropout 0 ,lr 0.01 , batch size 32\n",
      "469/469 [==============================] - 0s 182us/step\n",
      "16 nodes , dropout 0 ,lr 0.01 , batch size 64\n",
      "469/469 [==============================] - 0s 182us/step\n",
      "16 nodes , dropout 0 ,lr 0.01 , batch size 128\n",
      "469/469 [==============================] - 0s 183us/step\n",
      "16 nodes , dropout 0 ,lr 0.001 , batch size 32\n",
      "469/469 [==============================] - 0s 183us/step\n",
      "16 nodes , dropout 0 ,lr 0.001 , batch size 64\n",
      "469/469 [==============================] - 0s 181us/step\n",
      "16 nodes , dropout 0 ,lr 0.001 , batch size 128\n",
      "469/469 [==============================] - 0s 196us/step\n",
      "16 nodes , dropout 0.2 ,lr 0.1 , batch size 32\n",
      "469/469 [==============================] - 0s 185us/step\n",
      "16 nodes , dropout 0.2 ,lr 0.1 , batch size 64\n",
      "469/469 [==============================] - 0s 180us/step\n",
      "16 nodes , dropout 0.2 ,lr 0.1 , batch size 128\n",
      "469/469 [==============================] - 0s 184us/step\n",
      "16 nodes , dropout 0.2 ,lr 0.01 , batch size 32\n",
      "469/469 [==============================] - 0s 183us/step\n",
      "16 nodes , dropout 0.2 ,lr 0.01 , batch size 64\n",
      "469/469 [==============================] - 0s 183us/step\n",
      "16 nodes , dropout 0.2 ,lr 0.01 , batch size 128\n",
      "469/469 [==============================] - 0s 183us/step\n",
      "16 nodes , dropout 0.2 ,lr 0.001 , batch size 32\n",
      "469/469 [==============================] - 0s 179us/step\n",
      "16 nodes , dropout 0.2 ,lr 0.001 , batch size 64\n",
      "469/469 [==============================] - 0s 185us/step\n",
      "16 nodes , dropout 0.2 ,lr 0.001 , batch size 128\n",
      "469/469 [==============================] - 0s 181us/step\n",
      "32 nodes , dropout 0 ,lr 0.1 , batch size 32\n",
      "469/469 [==============================] - 0s 184us/step\n",
      "32 nodes , dropout 0 ,lr 0.1 , batch size 64\n",
      "469/469 [==============================] - 0s 176us/step\n",
      "32 nodes , dropout 0 ,lr 0.1 , batch size 128\n",
      "469/469 [==============================] - 0s 184us/step\n",
      "32 nodes , dropout 0 ,lr 0.01 , batch size 32\n",
      "469/469 [==============================] - 0s 183us/step\n",
      "32 nodes , dropout 0 ,lr 0.01 , batch size 64\n",
      "469/469 [==============================] - 0s 201us/step\n",
      "32 nodes , dropout 0 ,lr 0.01 , batch size 128\n",
      "469/469 [==============================] - 0s 181us/step\n",
      "32 nodes , dropout 0 ,lr 0.001 , batch size 32\n",
      "469/469 [==============================] - 0s 180us/step\n",
      "32 nodes , dropout 0 ,lr 0.001 , batch size 64\n",
      "469/469 [==============================] - 0s 180us/step\n",
      "32 nodes , dropout 0 ,lr 0.001 , batch size 128\n",
      "469/469 [==============================] - 0s 185us/step\n",
      "32 nodes , dropout 0.2 ,lr 0.1 , batch size 32\n",
      "469/469 [==============================] - 0s 183us/step\n",
      "32 nodes , dropout 0.2 ,lr 0.1 , batch size 64\n",
      "469/469 [==============================] - 0s 182us/step\n",
      "32 nodes , dropout 0.2 ,lr 0.1 , batch size 128\n",
      "469/469 [==============================] - 0s 183us/step\n",
      "32 nodes , dropout 0.2 ,lr 0.01 , batch size 32\n",
      "469/469 [==============================] - 0s 186us/step\n",
      "32 nodes , dropout 0.2 ,lr 0.01 , batch size 64\n",
      "469/469 [==============================] - 0s 185us/step\n",
      "32 nodes , dropout 0.2 ,lr 0.01 , batch size 128\n",
      "469/469 [==============================] - 0s 183us/step\n",
      "32 nodes , dropout 0.2 ,lr 0.001 , batch size 32\n",
      "469/469 [==============================] - 0s 183us/step\n",
      "32 nodes , dropout 0.2 ,lr 0.001 , batch size 64\n",
      "469/469 [==============================] - 0s 185us/step\n",
      "32 nodes , dropout 0.2 ,lr 0.001 , batch size 128\n",
      "469/469 [==============================] - 0s 182us/step\n",
      "64 nodes , dropout 0 ,lr 0.1 , batch size 32\n",
      "469/469 [==============================] - 0s 195us/step\n",
      "64 nodes , dropout 0 ,lr 0.1 , batch size 64\n",
      "469/469 [==============================] - 0s 210us/step\n",
      "64 nodes , dropout 0 ,lr 0.1 , batch size 128\n",
      "469/469 [==============================] - 0s 187us/step\n",
      "64 nodes , dropout 0 ,lr 0.01 , batch size 32\n",
      "469/469 [==============================] - 0s 190us/step\n",
      "64 nodes , dropout 0 ,lr 0.01 , batch size 64\n",
      "469/469 [==============================] - 0s 191us/step\n",
      "64 nodes , dropout 0 ,lr 0.01 , batch size 128\n",
      "469/469 [==============================] - 0s 190us/step\n",
      "64 nodes , dropout 0 ,lr 0.001 , batch size 32\n",
      "469/469 [==============================] - 0s 192us/step\n",
      "64 nodes , dropout 0 ,lr 0.001 , batch size 64\n",
      "469/469 [==============================] - 0s 190us/step\n",
      "64 nodes , dropout 0 ,lr 0.001 , batch size 128\n",
      "469/469 [==============================] - 0s 190us/step\n",
      "64 nodes , dropout 0.2 ,lr 0.1 , batch size 32\n",
      "469/469 [==============================] - 0s 190us/step\n",
      "64 nodes , dropout 0.2 ,lr 0.1 , batch size 64\n",
      "469/469 [==============================] - 0s 192us/step\n",
      "64 nodes , dropout 0.2 ,lr 0.1 , batch size 128\n",
      "469/469 [==============================] - 0s 190us/step\n",
      "64 nodes , dropout 0.2 ,lr 0.01 , batch size 32\n",
      "469/469 [==============================] - 0s 190us/step\n",
      "64 nodes , dropout 0.2 ,lr 0.01 , batch size 64\n",
      "469/469 [==============================] - 0s 190us/step\n",
      "64 nodes , dropout 0.2 ,lr 0.01 , batch size 128\n",
      "469/469 [==============================] - 0s 189us/step\n",
      "64 nodes , dropout 0.2 ,lr 0.001 , batch size 32\n",
      "469/469 [==============================] - 0s 192us/step\n",
      "64 nodes , dropout 0.2 ,lr 0.001 , batch size 64\n",
      "469/469 [==============================] - 0s 190us/step\n",
      "64 nodes , dropout 0.2 ,lr 0.001 , batch size 128\n",
      "469/469 [==============================] - 0s 192us/step\n"
     ]
    }
   ],
   "source": [
    "least_error = float('inf')\n",
    "least_error_list = []\n",
    "least_loss_model = None\n",
    "epochs = 100\n",
    "for num_nodes in [16,32,64]:\n",
    "    for dropout_prob in [0,0.2]:\n",
    "        for lr in [0.1,0.01,0.001]:\n",
    "            for batch_size in [32,64,128]:\n",
    "                print(f\"{num_nodes} nodes , dropout {dropout_prob} ,lr {lr} , batch size {batch_size}\")\n",
    "                nn_model,history = train_model(X_train,y_train,num_nodes,dropout_prob,lr,batch_size,epochs)\n",
    "                nn_reg_prediction = nn_model.predict(X_test)\n",
    "                least = mean_absolute_error(y_test,nn_reg_prediction)\n",
    "                least_error_list.append(least)\n",
    "                if least_error > least:\n",
    "                    least_error = least"
   ]
  },
  {
   "cell_type": "code",
   "execution_count": 32,
   "id": "18066292-eddf-4bc3-ade0-107592f13f50",
   "metadata": {
    "tags": []
   },
   "outputs": [
    {
     "data": {
      "text/plain": [
       "0.1748840823490118"
      ]
     },
     "execution_count": 32,
     "metadata": {},
     "output_type": "execute_result"
    }
   ],
   "source": [
    "lin_error ## Linear Regression"
   ]
  },
  {
   "cell_type": "code",
   "execution_count": 33,
   "id": "2e46f5ea-c143-43db-8052-96ef17512f49",
   "metadata": {
    "tags": []
   },
   "outputs": [
    {
     "data": {
      "text/plain": [
       "0.17238602846463522"
      ]
     },
     "execution_count": 33,
     "metadata": {},
     "output_type": "execute_result"
    }
   ],
   "source": [
    "least_error ## Tf Regression "
   ]
  },
  {
   "cell_type": "code",
   "execution_count": 34,
   "id": "dcdc7fbb-e18f-4804-9d46-7dae70a758de",
   "metadata": {
    "tags": []
   },
   "outputs": [],
   "source": [
    "nn_lin_df = pd.DataFrame()\n",
    "nn_lin_df['bestparamresult']=least_error_list"
   ]
  },
  {
   "cell_type": "code",
   "execution_count": 35,
   "id": "8b959f3f-754b-4443-b380-1c619f915597",
   "metadata": {
    "tags": []
   },
   "outputs": [
    {
     "data": {
      "text/plain": [
       "22"
      ]
     },
     "execution_count": 35,
     "metadata": {},
     "output_type": "execute_result"
    }
   ],
   "source": [
    "nn_lin_df['bestparamresult'].idxmin()"
   ]
  },
  {
   "cell_type": "code",
   "execution_count": 36,
   "id": "5da958ab-ce24-4d09-b662-2ef10cb8b101",
   "metadata": {
    "tags": []
   },
   "outputs": [
    {
     "data": {
      "text/plain": [
       "0      2.274116\n",
       "1      0.272072\n",
       "2      0.358633\n",
       "3      0.172706\n",
       "4      0.190632\n",
       "5      0.206864\n",
       "6      0.177341\n",
       "7      0.177585\n",
       "8      0.175766\n",
       "9      0.397564\n",
       "10     0.261855\n",
       "11     0.200253\n",
       "12     0.186155\n",
       "13     0.236997\n",
       "14     0.183101\n",
       "15     0.180117\n",
       "16     0.176049\n",
       "17     0.178680\n",
       "18     1.153419\n",
       "19     7.647375\n",
       "20     0.512706\n",
       "21     0.181688\n",
       "22     0.172386\n",
       "23     0.174367\n",
       "24     0.199341\n",
       "25     0.220735\n",
       "26     0.189581\n",
       "27     7.031491\n",
       "28     0.329003\n",
       "29     6.727235\n",
       "30     0.178441\n",
       "31     0.193074\n",
       "32     0.186816\n",
       "33     0.184822\n",
       "34     0.189042\n",
       "35     0.192757\n",
       "36     0.754556\n",
       "37    15.174808\n",
       "38    27.696232\n",
       "39     0.178423\n",
       "40     0.273636\n",
       "41     0.184716\n",
       "42     0.181547\n",
       "43     0.176099\n",
       "44     0.183678\n",
       "45     7.564833\n",
       "46    43.239729\n",
       "47     0.794771\n",
       "48     0.223991\n",
       "49     0.185744\n",
       "50     0.178671\n",
       "51     0.172992\n",
       "52     0.175918\n",
       "53     0.177972\n",
       "Name: bestparamresult, dtype: float64"
      ]
     },
     "execution_count": 36,
     "metadata": {},
     "output_type": "execute_result"
    }
   ],
   "source": [
    "nn_lin_df['bestparamresult']"
   ]
  },
  {
   "cell_type": "code",
   "execution_count": null,
   "id": "be31f533-56a5-424c-a70a-0692db38bbbc",
   "metadata": {
    "tags": []
   },
   "outputs": [],
   "source": [
    "# 32 nodes , dropout 0 ,lr 0.01 , batch size 64"
   ]
  },
  {
   "cell_type": "code",
   "execution_count": null,
   "id": "59fe1ee2-a975-448b-87ec-6d712b24ac25",
   "metadata": {
    "tags": []
   },
   "outputs": [],
   "source": [
    "# Tekrardan bu en az error gösteren değeri modele yerleştireceğim"
   ]
  },
  {
   "cell_type": "code",
   "execution_count": 37,
   "id": "a806006d-e9e6-4535-99ae-008bdc3193b0",
   "metadata": {
    "tags": []
   },
   "outputs": [
    {
     "data": {
      "text/plain": [
       "(<keras.src.engine.sequential.Sequential at 0x2d42fb0d0>,\n",
       " <keras.src.callbacks.History at 0x176256f50>)"
      ]
     },
     "execution_count": 37,
     "metadata": {},
     "output_type": "execute_result"
    }
   ],
   "source": [
    "train_model(X_train,y_train,32,0,0.01,64,100)"
   ]
  },
  {
   "cell_type": "code",
   "execution_count": 42,
   "id": "4029ad72-86f6-4709-8f6f-9ccdecfe64bc",
   "metadata": {
    "tags": []
   },
   "outputs": [
    {
     "name": "stdout",
     "output_type": "stream",
     "text": [
      "469/469 [==============================] - 0s 202us/step\n"
     ]
    }
   ],
   "source": [
    "nn_best_pred = nn_model.predict(X_test)"
   ]
  },
  {
   "cell_type": "code",
   "execution_count": 57,
   "id": "7aa66fba-5969-45c5-8893-8b797162736b",
   "metadata": {
    "tags": []
   },
   "outputs": [
    {
     "data": {
      "text/plain": [
       "3.3602011"
      ]
     },
     "execution_count": 57,
     "metadata": {},
     "output_type": "execute_result"
    }
   ],
   "source": [
    "nn_best_pred.mean()"
   ]
  },
  {
   "cell_type": "code",
   "execution_count": 56,
   "id": "05efcda5-faa9-4c6b-aeed-b1c49a2ca941",
   "metadata": {
    "tags": []
   },
   "outputs": [
    {
     "data": {
      "text/plain": [
       "3.344000804340034"
      ]
     },
     "execution_count": 56,
     "metadata": {},
     "output_type": "execute_result"
    }
   ],
   "source": [
    "lin_pred.mean()"
   ]
  },
  {
   "cell_type": "code",
   "execution_count": 41,
   "id": "b91b3add-9d65-430e-9123-b94e3b2ea830",
   "metadata": {
    "tags": []
   },
   "outputs": [
    {
     "data": {
      "text/html": [
       "<div>\n",
       "<style scoped>\n",
       "    .dataframe tbody tr th:only-of-type {\n",
       "        vertical-align: middle;\n",
       "    }\n",
       "\n",
       "    .dataframe tbody tr th {\n",
       "        vertical-align: top;\n",
       "    }\n",
       "\n",
       "    .dataframe thead th {\n",
       "        text-align: right;\n",
       "    }\n",
       "</style>\n",
       "<table border=\"1\" class=\"dataframe\">\n",
       "  <thead>\n",
       "    <tr style=\"text-align: right;\">\n",
       "      <th></th>\n",
       "      <th>xM</th>\n",
       "      <th>Pred</th>\n",
       "    </tr>\n",
       "  </thead>\n",
       "  <tbody>\n",
       "    <tr>\n",
       "      <th>33553</th>\n",
       "      <td>3.7</td>\n",
       "      <td>3.457040</td>\n",
       "    </tr>\n",
       "    <tr>\n",
       "      <th>9427</th>\n",
       "      <td>3.7</td>\n",
       "      <td>3.621256</td>\n",
       "    </tr>\n",
       "    <tr>\n",
       "      <th>199</th>\n",
       "      <td>3.7</td>\n",
       "      <td>3.610310</td>\n",
       "    </tr>\n",
       "    <tr>\n",
       "      <th>12447</th>\n",
       "      <td>3.1</td>\n",
       "      <td>3.296708</td>\n",
       "    </tr>\n",
       "    <tr>\n",
       "      <th>39489</th>\n",
       "      <td>3.3</td>\n",
       "      <td>3.229874</td>\n",
       "    </tr>\n",
       "  </tbody>\n",
       "</table>\n",
       "</div>"
      ],
      "text/plain": [
       "        xM      Pred\n",
       "33553  3.7  3.457040\n",
       "9427   3.7  3.621256\n",
       "199    3.7  3.610310\n",
       "12447  3.1  3.296708\n",
       "39489  3.3  3.229874"
      ]
     },
     "execution_count": 41,
     "metadata": {},
     "output_type": "execute_result"
    }
   ],
   "source": [
    "nn_comp_df = pd.DataFrame(y_test,columns=['xM'])\n",
    "nn_comp_df['Pred'] = nn_best_pred\n",
    "\n",
    "nn_comp_df.head()\n",
    "\n",
    "\n",
    "\n"
   ]
  },
  {
   "cell_type": "code",
   "execution_count": 44,
   "id": "03c11756-3d10-4f38-8bcf-a995815f52bb",
   "metadata": {
    "tags": []
   },
   "outputs": [],
   "source": [
    "ad_nn_comp_df=comp_df.reset_index()"
   ]
  },
  {
   "cell_type": "code",
   "execution_count": 46,
   "id": "2103aebc-9a9d-4845-8f1e-d5e34219c4d1",
   "metadata": {
    "tags": []
   },
   "outputs": [],
   "source": [
    "ad_nn_comp_df.drop(['index'],axis=1,inplace=True)"
   ]
  },
  {
   "cell_type": "code",
   "execution_count": 47,
   "id": "68ff36d0-5702-41af-9359-a98e64e59891",
   "metadata": {
    "tags": []
   },
   "outputs": [
    {
     "data": {
      "text/html": [
       "<div>\n",
       "<style scoped>\n",
       "    .dataframe tbody tr th:only-of-type {\n",
       "        vertical-align: middle;\n",
       "    }\n",
       "\n",
       "    .dataframe tbody tr th {\n",
       "        vertical-align: top;\n",
       "    }\n",
       "\n",
       "    .dataframe thead th {\n",
       "        text-align: right;\n",
       "    }\n",
       "</style>\n",
       "<table border=\"1\" class=\"dataframe\">\n",
       "  <thead>\n",
       "    <tr style=\"text-align: right;\">\n",
       "      <th></th>\n",
       "      <th>xM</th>\n",
       "      <th>Pred</th>\n",
       "    </tr>\n",
       "  </thead>\n",
       "  <tbody>\n",
       "    <tr>\n",
       "      <th>0</th>\n",
       "      <td>3.7</td>\n",
       "      <td>3.407768</td>\n",
       "    </tr>\n",
       "    <tr>\n",
       "      <th>1</th>\n",
       "      <td>3.7</td>\n",
       "      <td>3.533572</td>\n",
       "    </tr>\n",
       "    <tr>\n",
       "      <th>2</th>\n",
       "      <td>3.7</td>\n",
       "      <td>3.564108</td>\n",
       "    </tr>\n",
       "    <tr>\n",
       "      <th>3</th>\n",
       "      <td>3.1</td>\n",
       "      <td>3.297328</td>\n",
       "    </tr>\n",
       "    <tr>\n",
       "      <th>4</th>\n",
       "      <td>3.3</td>\n",
       "      <td>3.245367</td>\n",
       "    </tr>\n",
       "    <tr>\n",
       "      <th>...</th>\n",
       "      <td>...</td>\n",
       "      <td>...</td>\n",
       "    </tr>\n",
       "    <tr>\n",
       "      <th>14995</th>\n",
       "      <td>4.1</td>\n",
       "      <td>3.679065</td>\n",
       "    </tr>\n",
       "    <tr>\n",
       "      <th>14996</th>\n",
       "      <td>3.4</td>\n",
       "      <td>3.303194</td>\n",
       "    </tr>\n",
       "    <tr>\n",
       "      <th>14997</th>\n",
       "      <td>3.5</td>\n",
       "      <td>3.295657</td>\n",
       "    </tr>\n",
       "    <tr>\n",
       "      <th>14998</th>\n",
       "      <td>3.1</td>\n",
       "      <td>3.171633</td>\n",
       "    </tr>\n",
       "    <tr>\n",
       "      <th>14999</th>\n",
       "      <td>3.4</td>\n",
       "      <td>3.467340</td>\n",
       "    </tr>\n",
       "  </tbody>\n",
       "</table>\n",
       "<p>15000 rows × 2 columns</p>\n",
       "</div>"
      ],
      "text/plain": [
       "        xM      Pred\n",
       "0      3.7  3.407768\n",
       "1      3.7  3.533572\n",
       "2      3.7  3.564108\n",
       "3      3.1  3.297328\n",
       "4      3.3  3.245367\n",
       "...    ...       ...\n",
       "14995  4.1  3.679065\n",
       "14996  3.4  3.303194\n",
       "14997  3.5  3.295657\n",
       "14998  3.1  3.171633\n",
       "14999  3.4  3.467340\n",
       "\n",
       "[15000 rows x 2 columns]"
      ]
     },
     "execution_count": 47,
     "metadata": {},
     "output_type": "execute_result"
    }
   ],
   "source": []
  },
  {
   "cell_type": "code",
   "execution_count": 49,
   "id": "5224dcab-8bae-480e-9c45-b510a6fb4c0a",
   "metadata": {
    "tags": []
   },
   "outputs": [],
   "source": [
    "nn_error_per_list = []\n",
    "for i in range(len(ad_nn_comp_df)):\n",
    "    nn_error_per = ((100) - (((abs((ad_nn_comp_df['xM'][i])-ad_nn_comp_df['Pred'][i]))*100)/(ad_nn_comp_df['xM'][i])))\n",
    "    nn_error_per_list.append(nn_error_per)"
   ]
  },
  {
   "cell_type": "code",
   "execution_count": 50,
   "id": "6f02735e-5242-45fb-967a-ac40a551438c",
   "metadata": {
    "tags": []
   },
   "outputs": [
    {
     "data": {
      "text/plain": [
       "[92.1018263362062,\n",
       " 95.50195315868847,\n",
       " 96.32725082364534,\n",
       " 93.63456853577189,\n",
       " 98.34445775161221]"
      ]
     },
     "execution_count": 50,
     "metadata": {},
     "output_type": "execute_result"
    }
   ],
   "source": [
    "nn_error_per_list[:5]"
   ]
  },
  {
   "cell_type": "code",
   "execution_count": 51,
   "id": "a3bb6317-f0f2-4ca6-b285-64fdcaabbbe8",
   "metadata": {
    "tags": []
   },
   "outputs": [],
   "source": [
    "ad_nn_comp_df['Acc_per'] = nn_error_per_list"
   ]
  },
  {
   "cell_type": "code",
   "execution_count": 66,
   "id": "d4ef0a08-2619-4738-9e4e-e2ec301437c9",
   "metadata": {
    "tags": []
   },
   "outputs": [
    {
     "data": {
      "text/html": [
       "<div>\n",
       "<style scoped>\n",
       "    .dataframe tbody tr th:only-of-type {\n",
       "        vertical-align: middle;\n",
       "    }\n",
       "\n",
       "    .dataframe tbody tr th {\n",
       "        vertical-align: top;\n",
       "    }\n",
       "\n",
       "    .dataframe thead th {\n",
       "        text-align: right;\n",
       "    }\n",
       "</style>\n",
       "<table border=\"1\" class=\"dataframe\">\n",
       "  <thead>\n",
       "    <tr style=\"text-align: right;\">\n",
       "      <th></th>\n",
       "      <th>xM</th>\n",
       "      <th>Pred</th>\n",
       "      <th>Acc_per</th>\n",
       "    </tr>\n",
       "  </thead>\n",
       "  <tbody>\n",
       "    <tr>\n",
       "      <th>0</th>\n",
       "      <td>3.7</td>\n",
       "      <td>3.407768</td>\n",
       "      <td>92.101826</td>\n",
       "    </tr>\n",
       "    <tr>\n",
       "      <th>1</th>\n",
       "      <td>3.7</td>\n",
       "      <td>3.533572</td>\n",
       "      <td>95.501953</td>\n",
       "    </tr>\n",
       "    <tr>\n",
       "      <th>2</th>\n",
       "      <td>3.7</td>\n",
       "      <td>3.564108</td>\n",
       "      <td>96.327251</td>\n",
       "    </tr>\n",
       "    <tr>\n",
       "      <th>3</th>\n",
       "      <td>3.1</td>\n",
       "      <td>3.297328</td>\n",
       "      <td>93.634569</td>\n",
       "    </tr>\n",
       "    <tr>\n",
       "      <th>4</th>\n",
       "      <td>3.3</td>\n",
       "      <td>3.245367</td>\n",
       "      <td>98.344458</td>\n",
       "    </tr>\n",
       "    <tr>\n",
       "      <th>...</th>\n",
       "      <td>...</td>\n",
       "      <td>...</td>\n",
       "      <td>...</td>\n",
       "    </tr>\n",
       "    <tr>\n",
       "      <th>14995</th>\n",
       "      <td>4.1</td>\n",
       "      <td>3.679065</td>\n",
       "      <td>89.733294</td>\n",
       "    </tr>\n",
       "    <tr>\n",
       "      <th>14996</th>\n",
       "      <td>3.4</td>\n",
       "      <td>3.303194</td>\n",
       "      <td>97.152750</td>\n",
       "    </tr>\n",
       "    <tr>\n",
       "      <th>14997</th>\n",
       "      <td>3.5</td>\n",
       "      <td>3.295657</td>\n",
       "      <td>94.161626</td>\n",
       "    </tr>\n",
       "    <tr>\n",
       "      <th>14998</th>\n",
       "      <td>3.1</td>\n",
       "      <td>3.171633</td>\n",
       "      <td>97.689271</td>\n",
       "    </tr>\n",
       "    <tr>\n",
       "      <th>14999</th>\n",
       "      <td>3.4</td>\n",
       "      <td>3.467340</td>\n",
       "      <td>98.019399</td>\n",
       "    </tr>\n",
       "  </tbody>\n",
       "</table>\n",
       "<p>15000 rows × 3 columns</p>\n",
       "</div>"
      ],
      "text/plain": [
       "        xM      Pred    Acc_per\n",
       "0      3.7  3.407768  92.101826\n",
       "1      3.7  3.533572  95.501953\n",
       "2      3.7  3.564108  96.327251\n",
       "3      3.1  3.297328  93.634569\n",
       "4      3.3  3.245367  98.344458\n",
       "...    ...       ...        ...\n",
       "14995  4.1  3.679065  89.733294\n",
       "14996  3.4  3.303194  97.152750\n",
       "14997  3.5  3.295657  94.161626\n",
       "14998  3.1  3.171633  97.689271\n",
       "14999  3.4  3.467340  98.019399\n",
       "\n",
       "[15000 rows x 3 columns]"
      ]
     },
     "execution_count": 66,
     "metadata": {},
     "output_type": "execute_result"
    }
   ],
   "source": [
    "ad_nn_comp_df"
   ]
  },
  {
   "cell_type": "code",
   "execution_count": 65,
   "id": "56565a96-4f68-4698-abf2-f0e924aeda10",
   "metadata": {
    "tags": []
   },
   "outputs": [
    {
     "data": {
      "text/html": [
       "<div>\n",
       "<style scoped>\n",
       "    .dataframe tbody tr th:only-of-type {\n",
       "        vertical-align: middle;\n",
       "    }\n",
       "\n",
       "    .dataframe tbody tr th {\n",
       "        vertical-align: top;\n",
       "    }\n",
       "\n",
       "    .dataframe thead th {\n",
       "        text-align: right;\n",
       "    }\n",
       "</style>\n",
       "<table border=\"1\" class=\"dataframe\">\n",
       "  <thead>\n",
       "    <tr style=\"text-align: right;\">\n",
       "      <th></th>\n",
       "      <th>index</th>\n",
       "      <th>xM</th>\n",
       "      <th>Pred</th>\n",
       "      <th>Acc_per</th>\n",
       "    </tr>\n",
       "  </thead>\n",
       "  <tbody>\n",
       "    <tr>\n",
       "      <th>0</th>\n",
       "      <td>33553</td>\n",
       "      <td>3.7</td>\n",
       "      <td>3.407768</td>\n",
       "      <td>92.101826</td>\n",
       "    </tr>\n",
       "    <tr>\n",
       "      <th>1</th>\n",
       "      <td>9427</td>\n",
       "      <td>3.7</td>\n",
       "      <td>3.533572</td>\n",
       "      <td>95.501953</td>\n",
       "    </tr>\n",
       "    <tr>\n",
       "      <th>2</th>\n",
       "      <td>199</td>\n",
       "      <td>3.7</td>\n",
       "      <td>3.564108</td>\n",
       "      <td>96.327251</td>\n",
       "    </tr>\n",
       "    <tr>\n",
       "      <th>3</th>\n",
       "      <td>12447</td>\n",
       "      <td>3.1</td>\n",
       "      <td>3.297328</td>\n",
       "      <td>93.634569</td>\n",
       "    </tr>\n",
       "    <tr>\n",
       "      <th>4</th>\n",
       "      <td>39489</td>\n",
       "      <td>3.3</td>\n",
       "      <td>3.245367</td>\n",
       "      <td>98.344458</td>\n",
       "    </tr>\n",
       "    <tr>\n",
       "      <th>...</th>\n",
       "      <td>...</td>\n",
       "      <td>...</td>\n",
       "      <td>...</td>\n",
       "      <td>...</td>\n",
       "    </tr>\n",
       "    <tr>\n",
       "      <th>14995</th>\n",
       "      <td>15168</td>\n",
       "      <td>4.1</td>\n",
       "      <td>3.679065</td>\n",
       "      <td>89.733294</td>\n",
       "    </tr>\n",
       "    <tr>\n",
       "      <th>14996</th>\n",
       "      <td>49241</td>\n",
       "      <td>3.4</td>\n",
       "      <td>3.303194</td>\n",
       "      <td>97.152750</td>\n",
       "    </tr>\n",
       "    <tr>\n",
       "      <th>14997</th>\n",
       "      <td>39317</td>\n",
       "      <td>3.5</td>\n",
       "      <td>3.295657</td>\n",
       "      <td>94.161626</td>\n",
       "    </tr>\n",
       "    <tr>\n",
       "      <th>14998</th>\n",
       "      <td>42191</td>\n",
       "      <td>3.1</td>\n",
       "      <td>3.171633</td>\n",
       "      <td>97.689271</td>\n",
       "    </tr>\n",
       "    <tr>\n",
       "      <th>14999</th>\n",
       "      <td>15109</td>\n",
       "      <td>3.4</td>\n",
       "      <td>3.467340</td>\n",
       "      <td>98.019399</td>\n",
       "    </tr>\n",
       "  </tbody>\n",
       "</table>\n",
       "<p>15000 rows × 4 columns</p>\n",
       "</div>"
      ],
      "text/plain": [
       "       index   xM      Pred    Acc_per\n",
       "0      33553  3.7  3.407768  92.101826\n",
       "1       9427  3.7  3.533572  95.501953\n",
       "2        199  3.7  3.564108  96.327251\n",
       "3      12447  3.1  3.297328  93.634569\n",
       "4      39489  3.3  3.245367  98.344458\n",
       "...      ...  ...       ...        ...\n",
       "14995  15168  4.1  3.679065  89.733294\n",
       "14996  49241  3.4  3.303194  97.152750\n",
       "14997  39317  3.5  3.295657  94.161626\n",
       "14998  42191  3.1  3.171633  97.689271\n",
       "14999  15109  3.4  3.467340  98.019399\n",
       "\n",
       "[15000 rows x 4 columns]"
      ]
     },
     "execution_count": 65,
     "metadata": {},
     "output_type": "execute_result"
    }
   ],
   "source": [
    "ad_comp_df"
   ]
  },
  {
   "cell_type": "code",
   "execution_count": 53,
   "id": "5e63d37f-cf02-43e1-91ff-66ce1b14bfae",
   "metadata": {
    "tags": []
   },
   "outputs": [
    {
     "data": {
      "text/plain": [
       "95.03193176005065"
      ]
     },
     "execution_count": 53,
     "metadata": {},
     "output_type": "execute_result"
    }
   ],
   "source": [
    "ad_nn_comp_df['Acc_per'].mean()"
   ]
  },
  {
   "cell_type": "code",
   "execution_count": null,
   "id": "8e7b10e7-13b4-4ad2-a6fd-c0adfecddb75",
   "metadata": {},
   "outputs": [],
   "source": []
  },
  {
   "cell_type": "code",
   "execution_count": null,
   "id": "3a30e2f3-540c-4773-ba3c-07f2dd6db368",
   "metadata": {},
   "outputs": [],
   "source": []
  }
 ],
 "metadata": {
  "kernelspec": {
   "display_name": "Python 3 (ipykernel)",
   "language": "python",
   "name": "python3"
  },
  "language_info": {
   "codemirror_mode": {
    "name": "ipython",
    "version": 3
   },
   "file_extension": ".py",
   "mimetype": "text/x-python",
   "name": "python",
   "nbconvert_exporter": "python",
   "pygments_lexer": "ipython3",
   "version": "3.11.4"
  }
 },
 "nbformat": 4,
 "nbformat_minor": 5
}
